{
 "cells": [
  {
   "cell_type": "markdown",
   "metadata": {},
   "source": [
    "# Assignment Day2"
   ]
  },
  {
   "cell_type": "code",
   "execution_count": 1,
   "metadata": {},
   "outputs": [
    {
     "name": "stdout",
     "output_type": "stream",
     "text": [
      "enter username:INDIA\n",
      "enter password: IND\n",
      "Congratulations your login is sucessfull!\n"
     ]
    }
   ],
   "source": [
    "username_value = \"INDIA\"\n",
    "password_value = \"IND\"\n",
    "\n",
    "input_username = \"\"\n",
    "\n",
    "input_password = \"\"\n",
    "password_attempt = 1\n",
    "is_password_lock =False\n",
    "\n",
    "while input_password != password_value and not(is_password_lock): \n",
    "    input_username != username_value\n",
    "    if password_attempt <= 5:\n",
    "        input_username = input(\"enter username:\")\n",
    "        input_password = input(\"enter password: \")\n",
    "    else :\n",
    "        is_password_lock =True\n",
    "    password_attempt = password_attempt +1\n",
    "if is_password_lock:\n",
    "    print(\"your login failed due to many attempts try after 24 hours\")\n",
    "else :    \n",
    "    print(\"Congratulations your login is sucessfull!\")\n"
   ]
  },
  {
   "cell_type": "code",
   "execution_count": null,
   "metadata": {},
   "outputs": [],
   "source": []
  }
 ],
 "metadata": {
  "kernelspec": {
   "display_name": "Python 3",
   "language": "python",
   "name": "python3"
  },
  "language_info": {
   "codemirror_mode": {
    "name": "ipython",
    "version": 3
   },
   "file_extension": ".py",
   "mimetype": "text/x-python",
   "name": "python",
   "nbconvert_exporter": "python",
   "pygments_lexer": "ipython3",
   "version": "3.7.6"
  }
 },
 "nbformat": 4,
 "nbformat_minor": 4
}
